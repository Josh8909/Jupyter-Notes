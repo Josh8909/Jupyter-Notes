{
 "cells": [
  {
   "cell_type": "markdown",
   "id": "042e1f8d",
   "metadata": {},
   "source": [
    "## 解决DP问题的一般思考过程\n"
   ]
  },
  {
   "cell_type": "markdown",
   "id": "ecfb7bd2",
   "metadata": {},
   "source": [
    "### 先从一道示例问题开始\n",
    "\n",
    "**题目：** 最长上升子序列\n",
    "\n",
    "**描述：** 给定一个无序的整数数组，找到其中最长上升子序列的长度。\n",
    "\n",
    "**示例：**\n",
    "```\n",
    "输入: [10,9,2,5,3,7,101,18]  \n",
    "输出: 4  \n",
    "解释: 最长的上升子序列是 [2,3,7,18]，它的长度是4。\n",
    "```"
   ]
  },
  {
   "cell_type": "markdown",
   "id": "4a19d9ef",
   "metadata": {},
   "source": []
  },
  {
   "cell_type": "markdown",
   "id": "407e56c6",
   "metadata": {},
   "source": [
    "### 简单算法\n",
    "\n",
    "最简单的算法如下：尝试所有可能的上升子序列，并找出长度最长的子序列的长度。\n",
    "\n",
    "| 上升子序列 | 子序列长度 |\n",
    "| ----- | ---- |\n",
    "| [10] | 1 |\n",
    "| [10, 101] | 2 |\n",
    "| [10, 18] | 2 |\n",
    "| [9] | 1 |\n",
    "| [9, 101] | 2 |\n",
    "| [9, 18] | 2 |\n",
    "| [2] | 1 |\n",
    "| [2, 5] | 2 |\n",
    "| [2, 3] | 2 |\n",
    "| [2, 5, 7] | 3 |\n",
    "| [2, 3, 7] | 3 |\n",
    "| [2, 5, 7, 101] | **4** |\n",
    "| [2, 3, 7, 101] | **4** |\n",
    "| [2, 5, 7, 18] | **4** |\n",
    "| [2, 3, 7, 18] | **4** |\n",
    "| [5] | 1 |\n",
    "| [5, 7] | 2 |\n",
    "| [5, 7, 101] | 3 |\n",
    "| [5, 7, 18] | 3 |\n",
    "| [3] | 1 |\n",
    "| [3, 7] | 2 |\n",
    "| [3, 7, 101] | 3 |\n",
    "| [3, 7, 18] | 3 |\n",
    "| [7] | 1 |\n",
    "| [7, 101] | 2 |\n",
    "| [7, 18] | 2 |\n",
    "| [101] | 1 |\n",
    "| [18] | 1 |\n",
    "\n",
    "这样子肯定是可以求得问题的结果的，但速度却非常慢。运行时间为$O\\left(\\frac{n^2}{2}\\right)$。只要数组达到足够的长度，这种算法就肯定不行了。\n"
   ]
  },
  {
   "cell_type": "markdown",
   "id": "bf48ce82",
   "metadata": {},
   "source": [
    "### 动态规划思路\n",
    "\n",
    "动态规划先解决子问题，再逐步解决大问题。对于上面的问题，先解决局部子数组的问题，再逐步解决原来的问题。\n",
    "\n",
    "每个动态规划的算法都是从一个网格开始的，以下就以原问题为例，通过网格来阐述动态规划算法的推演过程。\n"
   ]
  },
  {
   "cell_type": "markdown",
   "id": "b8522ef4",
   "metadata": {},
   "source": [
    "### 推演方式一\n",
    "\n",
    "假定已知最长上升子序列开始元素num[i]，遍历后续元素num[n]：\n",
    "- $num[n] > num[i]$, 取值$num[j] + 1$, $i\\ \\le\\ j\\ \\lt\\ n,\\ num[j]\\ \\lt\\ num[n]$ \n",
    "- $num[n] <= num[i]$, 取值$num[n - 1]$\n",
    "\n",
    "| 行：子数组开始位置</br>列：子数组结束位置 | num[0] = 10 | num[1] = 9 | num[2] = 2 | num[3] = 5 | num[4] = 3 | num[5] = 7 | num[6] = 101 | num[7] = 18 |\n",
    "| ---- | ---- | ---- | ---- | ---- | ---- | ---- | ---- | ---- |\n",
    "| num[0] = 10 | 1 | 1 | 1 | 1 | 1 | 1 | 2 | 2 |\n",
    "| num[1] = 9 | 0 | 1 | 1 | 1 | 1 | 1 | 2 | 2 |\n",
    "| num[2] = 2 | 0 | 0 | 1 | 2 | 2 | 3 | **4** | **4** |\n",
    "| num[3] = 5 | 0 | 0 | 0 | 1 | 1 | 2 | 3 | 3 |\n",
    "| num[4] = 3 | 0 | 0 | 0 | 0 | 1 | 2 | 3 | 3 |\n",
    "| num[5] = 7 | 0 | 0 | 0 | 0 | 0 | 1 | 2 | 2 |\n",
    "| num[6] = 101 | 0 | 0 | 0 | 0 | 0 | 0 | 1 | 1 |\n",
    "| num[7] = 18 | 0 | 0 | 0 | 0 | 0 | 0 | 0 | 1 |\n",
    "\n",
    "推演出动态规划转移公式：\n",
    "$$\n",
    "f(i,n)\n",
    "\\begin{cases}\n",
    "1, & i = n \\\\[2ex]\n",
    "\\max(f(i, j)) + 1, & i \\le j \\lt n\\ \\&\\ num[j] \\lt num[n]\n",
    "\\end{cases}\n",
    "$$"
   ]
  },
  {
   "cell_type": "markdown",
   "id": "c65907fa",
   "metadata": {},
   "source": [
    "## 递归实现\n",
    "根据状态转移函数，可以通过递归轻松完成代码的实现。"
   ]
  },
  {
   "cell_type": "code",
   "execution_count": null,
   "id": "d6016a43",
   "metadata": {
    "slideshow": {
     "slide_type": "-"
    }
   },
   "outputs": [],
   "source": [
    "def maxUpLen(ary, n):\n",
    "    len = 1\n",
    "    for i in range(n):\n",
    "        if (ary[i] < ary[n]):\n",
    "            len = max(len, maxUpLen(ary, i) + 1)\n",
    "    print(\"数组%-30s最大上升序列长度=%d\" % (ary[0: n + 1], len))\n",
    "    return len\n",
    "\n",
    "\n",
    "src = [10, 9, 2, 5, 3, 7, 101, 18]\n",
    "\n",
    "print(\"\\n数组%-30s最大上升序列长度=%d\" % (src, maxUpLen(src, len(src) - 1)))\n"
   ]
  },
  {
   "cell_type": "markdown",
   "id": "e83e0958",
   "metadata": {},
   "source": [
    "## 自顶向下优化-记忆优化\n",
    "递归实现中，通过运算过程分析可以看出有很多重复计算过程。是否可以找到一种优化方案减少或避免这种重复计算。记忆化优化就是基于这种思路的一种优化算法。在递归运算$f(1),f(2)...$过程中，将已经得到的结果进行存储，在后续遇到求解子问题答案的时候就可以从已存储结果中直接获取。\n",
    "\n",
    "随着递归的进行，子问题的规模逐渐减小，称为自顶向下的方法。"
   ]
  },
  {
   "cell_type": "code",
   "execution_count": null,
   "id": "b36ad56d",
   "metadata": {},
   "outputs": [],
   "source": [
    "def maxUpLen(ary, n, dp):\n",
    "    if (dp[n] != 0):\n",
    "        return dp[n]\n",
    "    dp[n] = 1\n",
    "    for i in range(n):\n",
    "        if (ary[i] < ary[n]):\n",
    "            dp[n] = max(dp[n], maxUpLen(ary, i, dp) + 1)\n",
    "    print(\"数组%-30s最大上升序列长度=%d\" % (ary[0: n + 1], dp[n]))\n",
    "    return dp[n]\n",
    "\n",
    "\n",
    "src = [10, 9, 2, 5, 3, 7, 101, 18]\n",
    "dp = [0] * len(src)\n",
    "\n",
    "print(\"\\n数组%-30s最大上升序列长度=%d\" % (src, maxUpLen(src, len(src) - 1, dp)))\n"
   ]
  },
  {
   "cell_type": "markdown",
   "id": "814783a0",
   "metadata": {},
   "source": [
    "## 自底向上优化-迭代\n",
    "\n",
    "自顶向下优化算法中，减少了重复计算，但由于递归的存在，程序运行时有方法栈的额外消耗，甚至会发生栈溢出问题。\n",
    "\n",
    "由于已经知道了子问题与子问题之间的转移关系，可以通过逐步扩大问题规模，直到找到问题的最优解。由于避免了递归，所以这是一种更加优异的算法，这就是自底向上方法。"
   ]
  },
  {
   "cell_type": "code",
   "execution_count": null,
   "id": "9bcc831f",
   "metadata": {},
   "outputs": [],
   "source": [
    "def maxUpLen(ary):\n",
    "    # 定义一个记忆空间, 记忆已知子问题解\n",
    "    dp = [1] * len(ary)\n",
    "\n",
    "    for i in range(1, len(ary)):\n",
    "        for j in range(i):\n",
    "            if (ary[j] < ary[i]):\n",
    "                dp[i] = max(dp[j] + 1, dp[i])\n",
    "        print(\"数组%-30s最大上升序列长度=%d\" % (ary[0: i + 1], dp[i]))\n",
    "    return dp[-1]\n",
    "\n",
    "\n",
    "src = [10, 9, 2, 5, 3, 7, 101, 18]\n",
    "\n",
    "print(\"\\n数组%-30s最大上升序列长度=%d\" % (src, maxUpLen(src)))"
   ]
  }
 ],
 "metadata": {
  "celltoolbar": "原始单元格格式",
  "kernelspec": {
   "display_name": "Python 3.11.0 64-bit",
   "language": "python",
   "name": "python3"
  },
  "language_info": {
   "codemirror_mode": {
    "name": "ipython",
    "version": 3
   },
   "file_extension": ".py",
   "mimetype": "text/x-python",
   "name": "python",
   "nbconvert_exporter": "python",
   "pygments_lexer": "ipython3",
   "version": "3.11.0"
  },
  "vscode": {
   "interpreter": {
    "hash": "e38b4d201852b44cd3989deb29c095a13c30f820323604d1d40ac222961cbd9e"
   }
  }
 },
 "nbformat": 4,
 "nbformat_minor": 5
}
