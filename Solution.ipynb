{
 "cells": [
  {
   "cell_type": "code",
   "execution_count": 88,
   "metadata": {},
   "outputs": [
    {
     "name": "stdout",
     "output_type": "stream",
     "text": [
      "max for 36 ** 1        Z(          35) QPS:       0.00 \t<= int_max True \t<= long_max True\n",
      "max for 36 ** 2       ZZ(        1295) QPS:       0.01 \t<= int_max True \t<= long_max True\n",
      "max for 36 ** 3      ZZZ(       46655) QPS:       0.54 \t<= int_max True \t<= long_max True\n",
      "max for 36 ** 4     ZZZZ(     1679615) QPS:      19.44 \t<= int_max True \t<= long_max True\n",
      "max for 36 ** 5    ZZZZZ(    60466175) QPS:     699.84 \t<= int_max True \t<= long_max True\n",
      "max for 36 ** 6   ZZZZZZ(  2176782335) QPS:   25194.24 \t<= int_max False \t<= long_max True\n",
      "max for 36 ** 7  ZZZZZZZ( 78364164095) QPS:  906992.64 \t<= int_max False \t<= long_max True\n"
     ]
    }
   ],
   "source": [
    "charset = '0123456789ABCDEFGHIJKLMNOPQRSTUVWXYZ'\n",
    "def base36(num):\n",
    "    decimal = len(charset)\n",
    "    if num < decimal:\n",
    "        return charset[num]\n",
    "    ans = ''\n",
    "    while num:\n",
    "        ans += charset[num % decimal]\n",
    "        num //= decimal\n",
    "    return ans[-1::-1]\n",
    "\n",
    "\n",
    "CREATE TABLE id_generator (\n",
    "  id int(10) NOT NULL,\n",
    "  biz_type  varchar(20) NOT NULL COMMENT '业务类型',\n",
    "  max_id bigint(20) NOT NULL COMMENT '当前最大id',\n",
    "  step int(20) NOT NULL COMMENT '号段的步长',\n",
    "  version int(20) NOT NULL COMMENT '版本号',\n",
    "  PRIMARY KEY (`id`)\n",
    ")\n",
    "\n",
    "\n",
    "update id_generator set max_id = #{max_id+step}, version = version + 1 where version = #{version} and biz_type = XXX\n",
    "\n"
   ]
  }
 ],
 "metadata": {
  "kernelspec": {
   "display_name": "Python 3.11.0 64-bit",
   "language": "python",
   "name": "python3"
  },
  "language_info": {
   "codemirror_mode": {
    "name": "ipython",
    "version": 3
   },
   "file_extension": ".py",
   "mimetype": "text/x-python",
   "name": "python",
   "nbconvert_exporter": "python",
   "pygments_lexer": "ipython3",
   "version": "3.11.0"
  },
  "orig_nbformat": 4,
  "vscode": {
   "interpreter": {
    "hash": "e38b4d201852b44cd3989deb29c095a13c30f820323604d1d40ac222961cbd9e"
   }
  }
 },
 "nbformat": 4,
 "nbformat_minor": 2
}
