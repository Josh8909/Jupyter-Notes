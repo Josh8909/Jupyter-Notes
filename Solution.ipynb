{
 "cells": [
  {
   "cell_type": "code",
   "execution_count": 3,
   "metadata": {
    "tags": []
   },
   "outputs": [
    {
     "name": "stdout",
     "output_type": "stream",
     "text": [
      "a= 1 b= 2\n"
     ]
    }
   ],
   "source": [
    "from typing import List\n",
    "from collections import Counter\n",
    "\n",
    "class Solution:\n",
    "    def countPairs(self, nums: List[int], low: int, high: int) -> int:\n",
    "        cnt = Counter(nums)\n",
    "        ans = 0\n",
    "        for t in range(low, high + 1):\n",
    "            for n in cnt:\n",
    "                ans += cnt[n] * cnt[n ^ t]\n",
    "        return ans>>1\n",
    "\n",
    "Solution().countPairs(nums = [1,4,2,7], low = 2, high = 6)"
   ]
  },
  {
   "attachments": {},
   "cell_type": "markdown",
   "metadata": {},
   "source": [
    "S: A-A=0\n",
    "U: A-B=4, A-D=2\n",
    "\n",
    "S: A-A=0, A-D=2\n",
    "U: A-B=3, A-C=3, A-E=9\n",
    "\n",
    "S: A-A=0, A-D=2, A-B=3\n",
    "U: A-C=3, A-E=9\n",
    "\n",
    "S: A-A=0, A-D=2, A-B=3, A-C=3\n",
    "U: A-E=6"
   ]
  }
 ],
 "metadata": {
  "kernelspec": {
   "display_name": "Python 3.11.0 64-bit",
   "language": "python",
   "name": "python3"
  },
  "language_info": {
   "codemirror_mode": {
    "name": "ipython",
    "version": 3
   },
   "file_extension": ".py",
   "mimetype": "text/x-python",
   "name": "python",
   "nbconvert_exporter": "python",
   "pygments_lexer": "ipython3",
   "version": "3.11.0"
  },
  "orig_nbformat": 4,
  "vscode": {
   "interpreter": {
    "hash": "e38b4d201852b44cd3989deb29c095a13c30f820323604d1d40ac222961cbd9e"
   }
  }
 },
 "nbformat": 4,
 "nbformat_minor": 2
}
