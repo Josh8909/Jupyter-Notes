{
 "cells": [
  {
   "attachments": {},
   "cell_type": "markdown",
   "metadata": {},
   "source": [
    "# String.format\n",
    "String是日常中最常用的类，很多时候需要需要输出格式化的字符串（日期格式化，数字格式化）。\n",
    "`String.format(String format, Object... args)`方法就是我们平时最常用到的工具方法了。下面主要来通过代码来窥探一下方法的内部逻辑。\n",
    "\n",
    "## Formatter.class\n",
    "首先我们需要知道的是，format方法实际使用的是Formatter类的format方法。这也是整个format整个过程的核心所在。 \n",
    "\n",
    "```\n",
    "    public static String format(String format, Object... args) {\n",
    "        return new Formatter().format(format, args).toString();\n",
    "    }\n",
    "``` \n",
    "\n",
    "整个格式化的过程可以分为两个大的步骤：\n",
    "1. 格式化串的解析\n",
    "2. 格式化串应用args得到最后的格式化字符串\n",
    "\n",
    "### Parse 格式化串的解析\n",
    "首先引入一个接口类：\n",
    "```\n",
    "    private interface FormatString {\n",
    "        int index();\n",
    "        void print(Object arg, Locale l) throws IOException;\n",
    "        String toString();\n",
    "    }\n",
    "```\n",
    "\n"
   ]
  }
 ],
 "metadata": {
  "language_info": {
   "name": "python"
  },
  "orig_nbformat": 4
 },
 "nbformat": 4,
 "nbformat_minor": 2
}
